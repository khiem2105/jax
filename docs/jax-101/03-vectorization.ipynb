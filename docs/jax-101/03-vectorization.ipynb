{
  "cells": [
    {
      "cell_type": "markdown",
      "metadata": {
        "id": "zMIrmiaZxiJC"
      },
      "source": [
        "# Automatic Vectorization in JAX\n",
        "\n",
        "[![Open in Colab](https://colab.research.google.com/assets/colab-badge.svg)](https://colab.research.google.com/github/google/jax/blob/main/docs/jax-101/03-vectorization.ipynb) [![Open in Kaggle](https://kaggle.com/static/images/open-in-kaggle.svg)](https://kaggle.com/kernels/welcome?src=https://github.com/google/jax/blob/main/docs/jax-101/03-vectorization.ipynb)\n",
        "\n",
        "*Authors: Matteo Hessel*\n",
        "\n",
        "In the previous section we discussed JIT compilation via the `jax.jit` function. This notebook discusses another of JAX's transforms: vectorization via `jax.vmap`."
      ]
    },
    {
      "cell_type": "markdown",
      "metadata": {
        "id": "Kw-_imBrx4nN"
      },
      "source": [
        "## Manual Vectorization\n",
        "\n",
        "Consider the following simple code that computes the convolution of two one-dimensional vectors:"
      ]
    },
    {
      "cell_type": "code",
      "execution_count": 1,
      "metadata": {
        "id": "5Obro91lwE_s",
        "outputId": "7abf42cb-01c2-421a-fcbb-7ba7bdad58df",
        "colab": {
          "base_uri": "https://localhost:8080/"
        }
      },
      "outputs": [
        {
          "output_type": "stream",
          "name": "stderr",
          "text": [
            "WARNING:jax._src.xla_bridge:No GPU/TPU found, falling back to CPU. (Set TF_CPP_MIN_LOG_LEVEL=0 and rerun for more info.)\n"
          ]
        },
        {
          "output_type": "execute_result",
          "data": {
            "text/plain": [
              "Array([11., 20., 29.], dtype=float32)"
            ]
          },
          "metadata": {},
          "execution_count": 1
        }
      ],
      "source": [
        "import jax\n",
        "import jax.numpy as jnp\n",
        "\n",
        "x = jnp.arange(5)\n",
        "w = jnp.array([2., 3., 4.])\n",
        "\n",
        "def convolve(x, w):\n",
        "  output = []\n",
        "  for i in range(1, len(x)-1):\n",
        "    output.append(jnp.dot(x[i-1:i+2], w))\n",
        "  return jnp.array(output)\n",
        "\n",
        "convolve(x, w)"
      ]
    },
    {
      "cell_type": "markdown",
      "metadata": {
        "id": "z_nPhEhLRysk"
      },
      "source": [
        "Suppose we would like to apply this function to a batch of weights `w` to a batch of vectors `x`."
      ]
    },
    {
      "cell_type": "code",
      "execution_count": 2,
      "metadata": {
        "id": "rHQJnnrVUbxE"
      },
      "outputs": [],
      "source": [
        "xs = jnp.stack([x, x])\n",
        "ws = jnp.stack([w, w])"
      ]
    },
    {
      "cell_type": "code",
      "source": [
        "xs.shape, ws.shape"
      ],
      "metadata": {
        "id": "wEHPgZ8iBNKY",
        "outputId": "0f95d321-0bc0-436a-d9ae-219d6855e881",
        "colab": {
          "base_uri": "https://localhost:8080/"
        }
      },
      "execution_count": 3,
      "outputs": [
        {
          "output_type": "execute_result",
          "data": {
            "text/plain": [
              "((2, 5), (2, 3))"
            ]
          },
          "metadata": {},
          "execution_count": 3
        }
      ]
    },
    {
      "cell_type": "markdown",
      "metadata": {
        "id": "ghaJQW1aUfPi"
      },
      "source": [
        "The most naive option would be to simply loop over the batch in Python:"
      ]
    },
    {
      "cell_type": "code",
      "execution_count": 4,
      "metadata": {
        "id": "yM-IycdlzGyJ",
        "outputId": "a92fda60-e4cc-41fc-aa3a-aa167b4ab4e7",
        "colab": {
          "base_uri": "https://localhost:8080/"
        }
      },
      "outputs": [
        {
          "output_type": "execute_result",
          "data": {
            "text/plain": [
              "Array([[11., 20., 29.],\n",
              "       [11., 20., 29.]], dtype=float32)"
            ]
          },
          "metadata": {},
          "execution_count": 4
        }
      ],
      "source": [
        "def manually_batched_convolve(xs, ws):\n",
        "  output = []\n",
        "  for i in range(xs.shape[0]):\n",
        "    output.append(convolve(xs[i], ws[i]))\n",
        "  return jnp.stack(output)\n",
        "\n",
        "manually_batched_convolve(xs, ws)"
      ]
    },
    {
      "cell_type": "markdown",
      "metadata": {
        "id": "VTh0l_1SUlh4"
      },
      "source": [
        "This produces the correct result, however it is not very efficient.\n",
        "\n",
        "In order to batch the computation efficiently, you would normally have to rewrite the function manually to ensure it is done in vectorized form. This is not particularly difficult to implement, but does involve changing how the function treats indices, axes, and other parts of the input.\n",
        "\n",
        "For example, we could manually rewrite `convolve()` to support vectorized computation across the batch dimension as follows:"
      ]
    },
    {
      "cell_type": "code",
      "execution_count": 5,
      "metadata": {
        "id": "I4Wd9nrcTRRL",
        "outputId": "313ec52d-7b3e-4219-8733-c6db3679acd9",
        "colab": {
          "base_uri": "https://localhost:8080/"
        }
      },
      "outputs": [
        {
          "output_type": "execute_result",
          "data": {
            "text/plain": [
              "Array([[11., 20., 29.],\n",
              "       [11., 20., 29.]], dtype=float32)"
            ]
          },
          "metadata": {},
          "execution_count": 5
        }
      ],
      "source": [
        "def manually_vectorized_convolve(xs, ws):\n",
        "  output = []\n",
        "  for i in range(1, xs.shape[-1] -1):\n",
        "    output.append(jnp.sum(xs[:, i-1:i+2] * ws, axis=1))\n",
        "  return jnp.stack(output, axis=1)\n",
        "\n",
        "manually_vectorized_convolve(xs, ws)"
      ]
    },
    {
      "cell_type": "markdown",
      "metadata": {
        "id": "DW-RJ2Zs2QVu"
      },
      "source": [
        "Such re-implementation is messy and error-prone; fortunately JAX provides another way."
      ]
    },
    {
      "cell_type": "markdown",
      "metadata": {
        "id": "2oVLanQmUAo_"
      },
      "source": [
        "## Automatic Vectorization\n",
        "\n",
        "In JAX, the `jax.vmap` transformation is designed to generate such a vectorized implementation of a function automatically:"
      ]
    },
    {
      "cell_type": "code",
      "execution_count": 6,
      "metadata": {
        "id": "Brl-BoTqSQDw",
        "outputId": "44322232-fa82-4ebe-c8d0-abbedddd6d71",
        "colab": {
          "base_uri": "https://localhost:8080/"
        }
      },
      "outputs": [
        {
          "output_type": "execute_result",
          "data": {
            "text/plain": [
              "Array([[11., 20., 29.],\n",
              "       [11., 20., 29.]], dtype=float32)"
            ]
          },
          "metadata": {},
          "execution_count": 6
        }
      ],
      "source": [
        "auto_batch_convolve = jax.vmap(convolve)\n",
        "\n",
        "auto_batch_convolve(xs, ws)"
      ]
    },
    {
      "cell_type": "markdown",
      "metadata": {
        "id": "7aVAy7332lFj"
      },
      "source": [
        "It does this by tracing the function similarly to `jax.jit`, and automatically adding batch axes at the beginning of each input.\n",
        "\n",
        "If the batch dimension is not the first, you may use the `in_axes` and `out_axes` arguments to specify the location of the batch dimension in inputs and outputs. These may be an integer if the batch axis is the same for all inputs and outputs, or lists, otherwise."
      ]
    },
    {
      "cell_type": "code",
      "execution_count": 7,
      "metadata": {
        "id": "_VEEm1CGT2n0",
        "outputId": "92377cdc-8027-429d-8fec-7e3f2fb0dc1d",
        "colab": {
          "base_uri": "https://localhost:8080/"
        }
      },
      "outputs": [
        {
          "output_type": "execute_result",
          "data": {
            "text/plain": [
              "Array([[11., 11.],\n",
              "       [20., 20.],\n",
              "       [29., 29.]], dtype=float32)"
            ]
          },
          "metadata": {},
          "execution_count": 7
        }
      ],
      "source": [
        "auto_batch_convolve_v2 = jax.vmap(convolve, in_axes=1, out_axes=1)\n",
        "\n",
        "xst = jnp.transpose(xs)\n",
        "wst = jnp.transpose(ws)\n",
        "\n",
        "auto_batch_convolve_v2(xst, wst)"
      ]
    },
    {
      "cell_type": "markdown",
      "metadata": {
        "id": "-gNiLuxzSX32"
      },
      "source": [
        "`jax.vmap` also supports the case where only one of the arguments is batched: for example, if you would like to convolve to a single set of weights `w` with a batch of vectors `x`; in this case the `in_axes` argument can be set to `None`:"
      ]
    },
    {
      "cell_type": "code",
      "execution_count": 8,
      "metadata": {
        "id": "2s2YDsamSxki",
        "outputId": "0394498c-5905-4af7-c6ea-431af2a9a7c8",
        "colab": {
          "base_uri": "https://localhost:8080/"
        }
      },
      "outputs": [
        {
          "output_type": "execute_result",
          "data": {
            "text/plain": [
              "Array([[11., 20., 29.],\n",
              "       [11., 20., 29.]], dtype=float32)"
            ]
          },
          "metadata": {},
          "execution_count": 8
        }
      ],
      "source": [
        "batch_convolve_v3 = jax.vmap(convolve, in_axes=[0, None])\n",
        "\n",
        "batch_convolve_v3(xs, w)"
      ]
    },
    {
      "cell_type": "markdown",
      "metadata": {
        "id": "bsxT4hA6RTCG"
      },
      "source": [
        "## Combining transformations\n",
        "\n",
        "As with all JAX transformations, `jax.jit` and `jax.vmap` are designed to be composable, which means you can wrap a vmapped function with `jit`, or a JITted function with `vmap`, and everything will work correctly:"
      ]
    },
    {
      "cell_type": "code",
      "execution_count": 9,
      "metadata": {
        "id": "gsC-Myg0RVdj",
        "outputId": "70d92472-98f6-4154-a6c3-7b2a686808fe",
        "colab": {
          "base_uri": "https://localhost:8080/"
        }
      },
      "outputs": [
        {
          "output_type": "execute_result",
          "data": {
            "text/plain": [
              "Array([[11., 20., 29.],\n",
              "       [11., 20., 29.]], dtype=float32)"
            ]
          },
          "metadata": {},
          "execution_count": 9
        }
      ],
      "source": [
        "jitted_batch_convolve = jax.jit(auto_batch_convolve)\n",
        "\n",
        "jitted_batch_convolve(xs, ws)"
      ]
    },
    {
      "cell_type": "code",
      "source": [],
      "metadata": {
        "id": "13x97smxDCKB"
      },
      "execution_count": null,
      "outputs": []
    }
  ],
  "metadata": {
    "colab": {
      "name": "Vectorization in JAX",
      "provenance": []
    },
    "jupytext": {
      "formats": "ipynb,md:myst"
    },
    "kernelspec": {
      "display_name": "Python 3",
      "name": "python3"
    },
    "language_info": {
      "codemirror_mode": {
        "name": "ipython",
        "version": 3
      },
      "file_extension": ".py",
      "mimetype": "text/x-python",
      "name": "python",
      "nbconvert_exporter": "python",
      "pygments_lexer": "ipython3",
      "version": "3.7.6"
    }
  },
  "nbformat": 4,
  "nbformat_minor": 0
}